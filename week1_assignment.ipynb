{
 "cells": [
  {
   "cell_type": "code",
   "execution_count": 1,
   "id": "0a670afe-91c5-44e2-bbac-837075ec82d4",
   "metadata": {},
   "outputs": [
    {
     "name": "stdout",
     "output_type": "stream",
     "text": [
      "Lower Triangular Pattern:\n",
      "* \n",
      "* * \n",
      "* * * \n",
      "* * * * \n",
      "* * * * * \n",
      "\n",
      "Upper Triangular Pattern:\n",
      "* * * * * \n",
      "* * * * \n",
      "* * * \n",
      "* * \n",
      "* \n",
      "\n",
      "Pyramid Pattern:\n",
      "    * \n",
      "   * * \n",
      "  * * * \n",
      " * * * * \n",
      "* * * * * \n"
     ]
    }
   ],
   "source": [
    "\n",
    "# Lower Triangular Pattern\n",
    "def lower_triangular(n):\n",
    "    for i in range(1, n + 1):\n",
    "        print(\"* \" * i)\n",
    "\n",
    "# Upper Triangular Pattern\n",
    "def upper_triangular(n):\n",
    "    for i in range(n, 0, -1):\n",
    "        print(\"* \" * i)\n",
    "\n",
    "# Pyramid Pattern\n",
    "def pyramid(n):\n",
    "    for i in range(n):\n",
    "        print(\" \" * (n - i - 1) + \"* \" * (i + 1))\n",
    "\n",
    "# Number of rows for the patterns\n",
    "n = 5\n",
    "\n",
    "print(\"Lower Triangular Pattern:\")\n",
    "lower_triangular(n)\n",
    "print(\"\\nUpper Triangular Pattern:\")\n",
    "upper_triangular(n)\n",
    "print(\"\\nPyramid Pattern:\")\n",
    "pyramid(n)"
   ]
  },
  {
   "cell_type": "code",
   "execution_count": null,
   "id": "5dd3d0ea-9b03-45c4-84f4-601f20deecd7",
   "metadata": {},
   "outputs": [],
   "source": []
  },
  {
   "cell_type": "code",
   "execution_count": null,
   "id": "96e7d008-2f32-48e1-9904-0d771c8b43ef",
   "metadata": {},
   "outputs": [],
   "source": []
  }
 ],
 "metadata": {
  "kernelspec": {
   "display_name": "Python 3 (ipykernel)",
   "language": "python",
   "name": "python3"
  },
  "language_info": {
   "codemirror_mode": {
    "name": "ipython",
    "version": 3
   },
   "file_extension": ".py",
   "mimetype": "text/x-python",
   "name": "python",
   "nbconvert_exporter": "python",
   "pygments_lexer": "ipython3",
   "version": "3.13.2"
  }
 },
 "nbformat": 4,
 "nbformat_minor": 5
}
